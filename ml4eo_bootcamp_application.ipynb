{
  "nbformat": 4,
  "nbformat_minor": 0,
  "metadata": {
    "kernelspec": {
      "display_name": "Python 3",
      "language": "python",
      "name": "python3"
    },
    "language_info": {
      "codemirror_mode": {
        "name": "ipython",
        "version": 3
      },
      "file_extension": ".py",
      "mimetype": "text/x-python",
      "name": "python",
      "nbconvert_exporter": "python",
      "pygments_lexer": "ipython3",
      "version": "3.7.4"
    },
    "colab": {
      "name": "ml4eo_bootcamp_application.ipynb",
      "provenance": [],
      "include_colab_link": true
    }
  },
  "cells": [
    {
      "cell_type": "markdown",
      "metadata": {
        "id": "view-in-github",
        "colab_type": "text"
      },
      "source": [
        "<a href=\"https://colab.research.google.com/github/fmorumbasi/ml4eo_bootcamp_application/blob/main/ml4eo_bootcamp_application.ipynb\" target=\"_parent\"><img src=\"https://colab.research.google.com/assets/colab-badge.svg\" alt=\"Open In Colab\"/></a>"
      ]
    },
    {
      "cell_type": "markdown",
      "metadata": {
        "id": "Y63p_fKQhuYZ"
      },
      "source": [
        "## Application Exercises\n",
        "\n",
        "These exercises will be used to evaluate your ability to work with geospatial data in Python. You will need several python packages to complete these exercises, the packages required are as follows:\n",
        "\n",
        "* geopandas\n",
        "* pandas\n",
        "* rasterio\n",
        "* fiona\n",
        "* pycrs\n",
        "\n",
        "For each cell where you see \"WRITE YOUR CODE HERE\" delete the return notImplemented statement when you write your code there - don't leave it in the notebook. This notebook contains test cases to evaluate whether your functions are working correctly. When you run these cells they will print either \"Congratulations, all is working just fine !!!\" if your function works or \"Sorry wrong answer\" if it does not. Once you finish these exercises, upload the completed notebook to the application page and submit your application.\n",
        "\n",
        "In case of any questions, contact the organizers at hello@radiant.earth"
      ]
    },
    {
      "cell_type": "markdown",
      "metadata": {
        "id": "yiOp-yMXhuYo"
      },
      "source": [
        "### Reading in data using GeoPandas\n",
        "[GeoPandas](https://geopandas.org/) is a Python library that is particularly good for doing any geospatial-data-related tasks in Python. We will use several other libraries in Python as well.\n",
        "\n",
        "To test that everything is working fine:\n",
        "1. Ensure that all of the files from the repository are in the same directory as this notebook.\n",
        "2. Use GeoPandas to read in the first sheet of data from the geojson file as shown below\n",
        "3. Work through some of the example analyses shown and complete the questions that follow."
      ]
    },
    {
      "cell_type": "code",
      "metadata": {
        "id": "f1pVnIHNu1Mx",
        "outputId": "e54c1647-524d-4be5-833d-47b8a93df62c",
        "colab": {
          "base_uri": "https://localhost:8080/"
        }
      },
      "source": [
        "pip install geopandas"
      ],
      "execution_count": 3,
      "outputs": [
        {
          "output_type": "stream",
          "text": [
            "Collecting geopandas\n",
            "\u001b[?25l  Downloading https://files.pythonhosted.org/packages/d7/bf/e9cefb69d39155d122b6ddca53893b61535fa6ffdad70bf5ef708977f53f/geopandas-0.9.0-py2.py3-none-any.whl (994kB)\n",
            "\u001b[K     |████████████████████████████████| 1.0MB 4.0MB/s \n",
            "\u001b[?25hCollecting pyproj>=2.2.0\n",
            "\u001b[?25l  Downloading https://files.pythonhosted.org/packages/b1/72/d52e9ca81caef056062d71991b0e9b1d16af042245627c5d0e4916a36c4f/pyproj-3.0.1-cp37-cp37m-manylinux2010_x86_64.whl (6.5MB)\n",
            "\u001b[K     |████████████████████████████████| 6.5MB 24.9MB/s \n",
            "\u001b[?25hRequirement already satisfied: shapely>=1.6 in /usr/local/lib/python3.7/dist-packages (from geopandas) (1.7.1)\n",
            "Collecting fiona>=1.8\n",
            "\u001b[?25l  Downloading https://files.pythonhosted.org/packages/ea/2a/404b22883298a3efe9c6ef8d67acbf2c38443fa366ee9cd4cd34e17626ea/Fiona-1.8.19-cp37-cp37m-manylinux1_x86_64.whl (15.3MB)\n",
            "\u001b[K     |████████████████████████████████| 15.3MB 244kB/s \n",
            "\u001b[?25hRequirement already satisfied: pandas>=0.24.0 in /usr/local/lib/python3.7/dist-packages (from geopandas) (1.1.5)\n",
            "Requirement already satisfied: certifi in /usr/local/lib/python3.7/dist-packages (from pyproj>=2.2.0->geopandas) (2020.12.5)\n",
            "Collecting munch\n",
            "  Downloading https://files.pythonhosted.org/packages/cc/ab/85d8da5c9a45e072301beb37ad7f833cd344e04c817d97e0cc75681d248f/munch-2.5.0-py2.py3-none-any.whl\n",
            "Requirement already satisfied: attrs>=17 in /usr/local/lib/python3.7/dist-packages (from fiona>=1.8->geopandas) (21.2.0)\n",
            "Collecting cligj>=0.5\n",
            "  Downloading https://files.pythonhosted.org/packages/42/1e/947eadf10d6804bf276eb8a038bd5307996dceaaa41cfd21b7a15ec62f5d/cligj-0.7.1-py3-none-any.whl\n",
            "Collecting click<8,>=4.0\n",
            "\u001b[?25l  Downloading https://files.pythonhosted.org/packages/d2/3d/fa76db83bf75c4f8d338c2fd15c8d33fdd7ad23a9b5e57eb6c5de26b430e/click-7.1.2-py2.py3-none-any.whl (82kB)\n",
            "\u001b[K     |████████████████████████████████| 92kB 9.7MB/s \n",
            "\u001b[?25hCollecting click-plugins>=1.0\n",
            "  Downloading https://files.pythonhosted.org/packages/e9/da/824b92d9942f4e472702488857914bdd50f73021efea15b4cad9aca8ecef/click_plugins-1.1.1-py2.py3-none-any.whl\n",
            "Requirement already satisfied: six>=1.7 in /usr/local/lib/python3.7/dist-packages (from fiona>=1.8->geopandas) (1.15.0)\n",
            "Requirement already satisfied: pytz>=2017.2 in /usr/local/lib/python3.7/dist-packages (from pandas>=0.24.0->geopandas) (2018.9)\n",
            "Requirement already satisfied: python-dateutil>=2.7.3 in /usr/local/lib/python3.7/dist-packages (from pandas>=0.24.0->geopandas) (2.8.1)\n",
            "Requirement already satisfied: numpy>=1.15.4 in /usr/local/lib/python3.7/dist-packages (from pandas>=0.24.0->geopandas) (1.19.5)\n",
            "Installing collected packages: pyproj, munch, click, cligj, click-plugins, fiona, geopandas\n",
            "  Found existing installation: click 8.0.0\n",
            "    Uninstalling click-8.0.0:\n",
            "      Successfully uninstalled click-8.0.0\n",
            "Successfully installed click-7.1.2 click-plugins-1.1.1 cligj-0.7.1 fiona-1.8.19 geopandas-0.9.0 munch-2.5.0 pyproj-3.0.1\n"
          ],
          "name": "stdout"
        }
      ]
    },
    {
      "cell_type": "code",
      "metadata": {
        "id": "_YbVT7w7vUEQ",
        "outputId": "57f06430-9325-4ef5-d4c4-893d1136ee6f",
        "colab": {
          "base_uri": "https://localhost:8080/"
        }
      },
      "source": [
        "pip install fiona"
      ],
      "execution_count": 4,
      "outputs": [
        {
          "output_type": "stream",
          "text": [
            "Requirement already satisfied: fiona in /usr/local/lib/python3.7/dist-packages (1.8.19)\n",
            "Requirement already satisfied: click<8,>=4.0 in /usr/local/lib/python3.7/dist-packages (from fiona) (7.1.2)\n",
            "Requirement already satisfied: munch in /usr/local/lib/python3.7/dist-packages (from fiona) (2.5.0)\n",
            "Requirement already satisfied: cligj>=0.5 in /usr/local/lib/python3.7/dist-packages (from fiona) (0.7.1)\n",
            "Requirement already satisfied: six>=1.7 in /usr/local/lib/python3.7/dist-packages (from fiona) (1.15.0)\n",
            "Requirement already satisfied: attrs>=17 in /usr/local/lib/python3.7/dist-packages (from fiona) (21.2.0)\n",
            "Requirement already satisfied: certifi in /usr/local/lib/python3.7/dist-packages (from fiona) (2020.12.5)\n",
            "Requirement already satisfied: click-plugins>=1.0 in /usr/local/lib/python3.7/dist-packages (from fiona) (1.1.1)\n"
          ],
          "name": "stdout"
        }
      ]
    },
    {
      "cell_type": "code",
      "metadata": {
        "id": "9nejCOhYwMbc",
        "outputId": "8799043b-3ced-414a-cebe-2d24eecb1b04",
        "colab": {
          "base_uri": "https://localhost:8080/"
        }
      },
      "source": [
        "pip install PyDrive"
      ],
      "execution_count": 6,
      "outputs": [
        {
          "output_type": "stream",
          "text": [
            "Requirement already satisfied: PyDrive in /usr/local/lib/python3.7/dist-packages (1.3.1)\n",
            "Requirement already satisfied: google-api-python-client>=1.2 in /usr/local/lib/python3.7/dist-packages (from PyDrive) (1.12.8)\n",
            "Requirement already satisfied: PyYAML>=3.0 in /usr/local/lib/python3.7/dist-packages (from PyDrive) (3.13)\n",
            "Requirement already satisfied: oauth2client>=4.0.0 in /usr/local/lib/python3.7/dist-packages (from PyDrive) (4.1.3)\n",
            "Requirement already satisfied: google-auth-httplib2>=0.0.3 in /usr/local/lib/python3.7/dist-packages (from google-api-python-client>=1.2->PyDrive) (0.0.4)\n",
            "Requirement already satisfied: six<2dev,>=1.13.0 in /usr/local/lib/python3.7/dist-packages (from google-api-python-client>=1.2->PyDrive) (1.15.0)\n",
            "Requirement already satisfied: google-auth>=1.16.0 in /usr/local/lib/python3.7/dist-packages (from google-api-python-client>=1.2->PyDrive) (1.30.0)\n",
            "Requirement already satisfied: httplib2<1dev,>=0.15.0 in /usr/local/lib/python3.7/dist-packages (from google-api-python-client>=1.2->PyDrive) (0.17.4)\n",
            "Requirement already satisfied: google-api-core<2dev,>=1.21.0 in /usr/local/lib/python3.7/dist-packages (from google-api-python-client>=1.2->PyDrive) (1.26.3)\n",
            "Requirement already satisfied: uritemplate<4dev,>=3.0.0 in /usr/local/lib/python3.7/dist-packages (from google-api-python-client>=1.2->PyDrive) (3.0.1)\n",
            "Requirement already satisfied: pyasn1-modules>=0.0.5 in /usr/local/lib/python3.7/dist-packages (from oauth2client>=4.0.0->PyDrive) (0.2.8)\n",
            "Requirement already satisfied: rsa>=3.1.4 in /usr/local/lib/python3.7/dist-packages (from oauth2client>=4.0.0->PyDrive) (4.7.2)\n",
            "Requirement already satisfied: pyasn1>=0.1.7 in /usr/local/lib/python3.7/dist-packages (from oauth2client>=4.0.0->PyDrive) (0.4.8)\n",
            "Requirement already satisfied: setuptools>=40.3.0 in /usr/local/lib/python3.7/dist-packages (from google-auth>=1.16.0->google-api-python-client>=1.2->PyDrive) (56.1.0)\n",
            "Requirement already satisfied: cachetools<5.0,>=2.0.0 in /usr/local/lib/python3.7/dist-packages (from google-auth>=1.16.0->google-api-python-client>=1.2->PyDrive) (4.2.2)\n",
            "Requirement already satisfied: googleapis-common-protos<2.0dev,>=1.6.0 in /usr/local/lib/python3.7/dist-packages (from google-api-core<2dev,>=1.21.0->google-api-python-client>=1.2->PyDrive) (1.53.0)\n",
            "Requirement already satisfied: pytz in /usr/local/lib/python3.7/dist-packages (from google-api-core<2dev,>=1.21.0->google-api-python-client>=1.2->PyDrive) (2018.9)\n",
            "Requirement already satisfied: requests<3.0.0dev,>=2.18.0 in /usr/local/lib/python3.7/dist-packages (from google-api-core<2dev,>=1.21.0->google-api-python-client>=1.2->PyDrive) (2.23.0)\n",
            "Requirement already satisfied: packaging>=14.3 in /usr/local/lib/python3.7/dist-packages (from google-api-core<2dev,>=1.21.0->google-api-python-client>=1.2->PyDrive) (20.9)\n",
            "Requirement already satisfied: protobuf>=3.12.0 in /usr/local/lib/python3.7/dist-packages (from google-api-core<2dev,>=1.21.0->google-api-python-client>=1.2->PyDrive) (3.12.4)\n",
            "Requirement already satisfied: idna<3,>=2.5 in /usr/local/lib/python3.7/dist-packages (from requests<3.0.0dev,>=2.18.0->google-api-core<2dev,>=1.21.0->google-api-python-client>=1.2->PyDrive) (2.10)\n",
            "Requirement already satisfied: chardet<4,>=3.0.2 in /usr/local/lib/python3.7/dist-packages (from requests<3.0.0dev,>=2.18.0->google-api-core<2dev,>=1.21.0->google-api-python-client>=1.2->PyDrive) (3.0.4)\n",
            "Requirement already satisfied: certifi>=2017.4.17 in /usr/local/lib/python3.7/dist-packages (from requests<3.0.0dev,>=2.18.0->google-api-core<2dev,>=1.21.0->google-api-python-client>=1.2->PyDrive) (2020.12.5)\n",
            "Requirement already satisfied: urllib3!=1.25.0,!=1.25.1,<1.26,>=1.21.1 in /usr/local/lib/python3.7/dist-packages (from requests<3.0.0dev,>=2.18.0->google-api-core<2dev,>=1.21.0->google-api-python-client>=1.2->PyDrive) (1.24.3)\n",
            "Requirement already satisfied: pyparsing>=2.0.2 in /usr/local/lib/python3.7/dist-packages (from packaging>=14.3->google-api-core<2dev,>=1.21.0->google-api-python-client>=1.2->PyDrive) (2.4.7)\n"
          ],
          "name": "stdout"
        }
      ]
    },
    {
      "cell_type": "code",
      "metadata": {
        "id": "ji_aiY1GwQvA"
      },
      "source": [
        "from pydrive.auth import GoogleAuth\n",
        "from pydrive.drive import GoogleDrive\n",
        "from google.colab import auth\n",
        "from oauth2client.client import GoogleCredentials"
      ],
      "execution_count": 7,
      "outputs": []
    },
    {
      "cell_type": "code",
      "metadata": {
        "id": "UOy95Rx2wY3s"
      },
      "source": [
        "# Authenticate and create the PyDrive client.\n",
        "auth.authenticate_user()\n",
        "gauth = GoogleAuth()\n",
        "gauth.credentials = GoogleCredentials.get_application_default()\n",
        "drive = GoogleDrive(gauth)"
      ],
      "execution_count": 10,
      "outputs": []
    },
    {
      "cell_type": "code",
      "metadata": {
        "id": "O9erCKvAz9ov",
        "outputId": "9b970f08-1171-48c8-d3f1-7f6b8c09983b",
        "colab": {
          "base_uri": "https://localhost:8080/"
        }
      },
      "source": [
        "from google.colab import drive\n",
        "drive.mount('/content/drive')"
      ],
      "execution_count": 7,
      "outputs": [
        {
          "output_type": "stream",
          "text": [
            "Mounted at /content/drive\n"
          ],
          "name": "stdout"
        }
      ]
    },
    {
      "cell_type": "code",
      "metadata": {
        "id": "L8ytnefu2Hak"
      },
      "source": [
        "path = \"/content/drive/MyDrive/Colab Notebooks/crops.geojson\""
      ],
      "execution_count": 8,
      "outputs": []
    },
    {
      "cell_type": "code",
      "metadata": {
        "id": "qZXikGxKhuYx",
        "outputId": "96817904-c13a-4e55-eb62-7fbc528a154c",
        "colab": {
          "base_uri": "https://localhost:8080/",
          "height": 598
        }
      },
      "source": [
        "import geopandas\n",
        "import pandas as pd\n",
        "\n",
        "data = geopandas.read_file(path)\n",
        "data.head() # show the first 5 rows of the data."
      ],
      "execution_count": 9,
      "outputs": [
        {
          "output_type": "execute_result",
          "data": {
            "text/html": [
              "<div>\n",
              "<style scoped>\n",
              "    .dataframe tbody tr th:only-of-type {\n",
              "        vertical-align: middle;\n",
              "    }\n",
              "\n",
              "    .dataframe tbody tr th {\n",
              "        vertical-align: top;\n",
              "    }\n",
              "\n",
              "    .dataframe thead th {\n",
              "        text-align: right;\n",
              "    }\n",
              "</style>\n",
              "<table border=\"1\" class=\"dataframe\">\n",
              "  <thead>\n",
              "    <tr style=\"text-align: right;\">\n",
              "      <th></th>\n",
              "      <th>Field ID</th>\n",
              "      <th>Latitude</th>\n",
              "      <th>Longitude</th>\n",
              "      <th>Accuracy</th>\n",
              "      <th>Survey Date</th>\n",
              "      <th>Water Resource</th>\n",
              "      <th>Planting Date</th>\n",
              "      <th>PlantingDate Method</th>\n",
              "      <th>Estimated Harvest Date</th>\n",
              "      <th>Crop1</th>\n",
              "      <th>Crop2</th>\n",
              "      <th>Crop3</th>\n",
              "      <th>Crop4</th>\n",
              "      <th>Crop5</th>\n",
              "      <th>Crop Density</th>\n",
              "      <th>Variety</th>\n",
              "      <th>CMD Rating</th>\n",
              "      <th>CBSD Rating</th>\n",
              "      <th>CGM Rating</th>\n",
              "      <th>Disease Rating</th>\n",
              "      <th>geometry</th>\n",
              "    </tr>\n",
              "  </thead>\n",
              "  <tbody>\n",
              "    <tr>\n",
              "      <th>0</th>\n",
              "      <td>5.1</td>\n",
              "      <td>0.538299</td>\n",
              "      <td>34.22033</td>\n",
              "      <td>3.216</td>\n",
              "      <td>2019-05-16</td>\n",
              "      <td>rainfed</td>\n",
              "      <td>2018-08-13</td>\n",
              "      <td>Recorded</td>\n",
              "      <td>2019-06-13</td>\n",
              "      <td>Cassava</td>\n",
              "      <td></td>\n",
              "      <td></td>\n",
              "      <td></td>\n",
              "      <td></td>\n",
              "      <td>40</td>\n",
              "      <td>Tanzania</td>\n",
              "      <td>NULL</td>\n",
              "      <td>NULL</td>\n",
              "      <td>NULL</td>\n",
              "      <td>NULL</td>\n",
              "      <td>POLYGON ((635776.260 59518.908, 635798.727 595...</td>\n",
              "    </tr>\n",
              "    <tr>\n",
              "      <th>1</th>\n",
              "      <td>5.101</td>\n",
              "      <td>0.538204</td>\n",
              "      <td>34.22009</td>\n",
              "      <td>4.288</td>\n",
              "      <td>2019-05-16</td>\n",
              "      <td>rainfed</td>\n",
              "      <td>2019-03-01</td>\n",
              "      <td>Estimated</td>\n",
              "      <td>2019-12-01</td>\n",
              "      <td>Maize</td>\n",
              "      <td></td>\n",
              "      <td></td>\n",
              "      <td></td>\n",
              "      <td></td>\n",
              "      <td>50</td>\n",
              "      <td>Null</td>\n",
              "      <td>NULL</td>\n",
              "      <td>NULL</td>\n",
              "      <td>NULL</td>\n",
              "      <td>NULL</td>\n",
              "      <td>POLYGON ((635766.485 59501.773, 635765.180 595...</td>\n",
              "    </tr>\n",
              "    <tr>\n",
              "      <th>2</th>\n",
              "      <td>6.1</td>\n",
              "      <td>0.539152</td>\n",
              "      <td>34.22034</td>\n",
              "      <td>4.288</td>\n",
              "      <td>2019-05-16</td>\n",
              "      <td>rainfed</td>\n",
              "      <td>2019-04-03</td>\n",
              "      <td>Recorded</td>\n",
              "      <td>2020-01-03</td>\n",
              "      <td>Maize</td>\n",
              "      <td>Groundnut</td>\n",
              "      <td></td>\n",
              "      <td></td>\n",
              "      <td></td>\n",
              "      <td>60</td>\n",
              "      <td>DH 04</td>\n",
              "      <td>NULL</td>\n",
              "      <td>NULL</td>\n",
              "      <td>NULL</td>\n",
              "      <td>NULL</td>\n",
              "      <td>POLYGON ((635800.201 59601.742, 635774.494 595...</td>\n",
              "    </tr>\n",
              "    <tr>\n",
              "      <th>3</th>\n",
              "      <td>6.101</td>\n",
              "      <td>0.539092</td>\n",
              "      <td>34.22031</td>\n",
              "      <td>3.216</td>\n",
              "      <td>2019-05-16</td>\n",
              "      <td>rainfed</td>\n",
              "      <td>2019-03-01</td>\n",
              "      <td>Estimated</td>\n",
              "      <td>2019-12-01</td>\n",
              "      <td>Maize</td>\n",
              "      <td></td>\n",
              "      <td></td>\n",
              "      <td></td>\n",
              "      <td></td>\n",
              "      <td>30</td>\n",
              "      <td>Null</td>\n",
              "      <td>NULL</td>\n",
              "      <td>NULL</td>\n",
              "      <td>NULL</td>\n",
              "      <td>NULL</td>\n",
              "      <td>POLYGON ((635798.934 59597.331, 635819.341 596...</td>\n",
              "    </tr>\n",
              "    <tr>\n",
              "      <th>4</th>\n",
              "      <td>6.2</td>\n",
              "      <td>0.539539</td>\n",
              "      <td>34.22064</td>\n",
              "      <td>4.288</td>\n",
              "      <td>2019-05-16</td>\n",
              "      <td>rainfed</td>\n",
              "      <td>2019-04-03</td>\n",
              "      <td>Recorded</td>\n",
              "      <td>2020-01-03</td>\n",
              "      <td>Maize</td>\n",
              "      <td>Bean</td>\n",
              "      <td></td>\n",
              "      <td></td>\n",
              "      <td></td>\n",
              "      <td>45</td>\n",
              "      <td>Null</td>\n",
              "      <td>NULL</td>\n",
              "      <td>NULL</td>\n",
              "      <td>NULL</td>\n",
              "      <td>NULL</td>\n",
              "      <td>POLYGON ((635829.837 59634.348, 635812.466 596...</td>\n",
              "    </tr>\n",
              "  </tbody>\n",
              "</table>\n",
              "</div>"
            ],
            "text/plain": [
              "  Field ID  ...                                           geometry\n",
              "0      5.1  ...  POLYGON ((635776.260 59518.908, 635798.727 595...\n",
              "1    5.101  ...  POLYGON ((635766.485 59501.773, 635765.180 595...\n",
              "2      6.1  ...  POLYGON ((635800.201 59601.742, 635774.494 595...\n",
              "3    6.101  ...  POLYGON ((635798.934 59597.331, 635819.341 596...\n",
              "4      6.2  ...  POLYGON ((635829.837 59634.348, 635812.466 596...\n",
              "\n",
              "[5 rows x 21 columns]"
            ]
          },
          "metadata": {
            "tags": []
          },
          "execution_count": 9
        }
      ]
    },
    {
      "cell_type": "code",
      "metadata": {
        "id": "kldN5B9wuh3M",
        "outputId": "b26e1fde-dde6-445d-94ae-536d97e31e2b",
        "colab": {
          "base_uri": "https://localhost:8080/"
        }
      },
      "source": [
        "my_list = data.columns.values.tolist()\n",
        "my_list"
      ],
      "execution_count": 10,
      "outputs": [
        {
          "output_type": "execute_result",
          "data": {
            "text/plain": [
              "['Field ID',\n",
              " 'Latitude',\n",
              " 'Longitude',\n",
              " 'Accuracy',\n",
              " 'Survey Date',\n",
              " 'Water Resource',\n",
              " 'Planting Date',\n",
              " 'PlantingDate Method',\n",
              " 'Estimated Harvest Date',\n",
              " 'Crop1',\n",
              " 'Crop2',\n",
              " 'Crop3',\n",
              " 'Crop4',\n",
              " 'Crop5',\n",
              " 'Crop Density',\n",
              " 'Variety',\n",
              " 'CMD Rating',\n",
              " 'CBSD Rating',\n",
              " 'CGM Rating',\n",
              " 'Disease Rating',\n",
              " 'geometry']"
            ]
          },
          "metadata": {
            "tags": []
          },
          "execution_count": 10
        }
      ]
    },
    {
      "cell_type": "markdown",
      "metadata": {
        "id": "xn-XnjlvhuYz"
      },
      "source": [
        "### Dataset Description\n",
        "\n",
        "This dataset contains field boundaries for crop fields in Kenya as well as the crop types present. Each field can have multiple crops present and are represented in the \"Crop1\", \"Crop2\", \"Crop3\", \"Crop4\", and \"Crop5\" columns. Each record also has the date the survey was conducted, when the crops were planted, an estimated harvest date, and whether the planting date is an estimate."
      ]
    },
    {
      "cell_type": "markdown",
      "metadata": {
        "id": "r2qunZgahuY0"
      },
      "source": [
        "### Listing all of the different types of crops present in this dataset"
      ]
    },
    {
      "cell_type": "code",
      "metadata": {
        "id": "zXkOulV8huY1",
        "outputId": "5f9b528e-6f91-45b1-9030-30c197f7e36a"
      },
      "source": [
        "list(pd.unique(data[['Crop1', 'Crop2', 'Crop3', 'Crop4', 'Crop5']].values.ravel('K')))"
      ],
      "execution_count": null,
      "outputs": [
        {
          "output_type": "execute_result",
          "data": {
            "text/plain": [
              "['Cassava',\n",
              " 'Maize',\n",
              " 'Sorghum',\n",
              " 'Bean',\n",
              " 'Groundnut',\n",
              " 'Fallowland',\n",
              " 'Millet',\n",
              " 'Tomato',\n",
              " 'Sugarcane',\n",
              " 'Sweetpotato',\n",
              " 'Banana',\n",
              " '',\n",
              " 'Cowpea',\n",
              " 'Soybean']"
            ]
          },
          "metadata": {
            "tags": []
          },
          "execution_count": 2
        }
      ]
    },
    {
      "cell_type": "code",
      "metadata": {
        "id": "HyYzfrAFvjo1",
        "outputId": "992b1e1c-e164-4634-c21d-24fd6a722ae3",
        "colab": {
          "base_uri": "https://localhost:8080/"
        }
      },
      "source": [
        "col_one_list = data['Crop1'].tolist()\n",
        "col_one_list"
      ],
      "execution_count": 11,
      "outputs": [
        {
          "output_type": "execute_result",
          "data": {
            "text/plain": [
              "['Cassava',\n",
              " 'Maize',\n",
              " 'Maize',\n",
              " 'Maize',\n",
              " 'Maize',\n",
              " 'Sorghum',\n",
              " 'Cassava',\n",
              " 'Maize',\n",
              " 'Maize',\n",
              " 'Maize',\n",
              " 'Maize',\n",
              " 'Maize',\n",
              " 'Maize',\n",
              " 'Maize',\n",
              " 'Maize',\n",
              " 'Cassava',\n",
              " 'Bean',\n",
              " 'Groundnut',\n",
              " 'Maize',\n",
              " 'Cassava',\n",
              " 'Maize',\n",
              " 'Maize',\n",
              " 'Maize',\n",
              " 'Maize',\n",
              " 'Cassava',\n",
              " 'Maize',\n",
              " 'Maize',\n",
              " 'Maize',\n",
              " 'Fallowland',\n",
              " 'Cassava',\n",
              " 'Cassava',\n",
              " 'Maize',\n",
              " 'Maize',\n",
              " 'Maize',\n",
              " 'Maize',\n",
              " 'Fallowland',\n",
              " 'Cassava',\n",
              " 'Maize',\n",
              " 'Maize',\n",
              " 'Maize',\n",
              " 'Maize',\n",
              " 'Maize',\n",
              " 'Cassava',\n",
              " 'Maize',\n",
              " 'Maize',\n",
              " 'Maize',\n",
              " 'Maize',\n",
              " 'Maize',\n",
              " 'Maize',\n",
              " 'Cassava',\n",
              " 'Maize',\n",
              " 'Maize',\n",
              " 'Maize',\n",
              " 'Maize',\n",
              " 'Cassava',\n",
              " 'Maize',\n",
              " 'Millet',\n",
              " 'Maize',\n",
              " 'Maize',\n",
              " 'Fallowland',\n",
              " 'Maize',\n",
              " 'Fallowland',\n",
              " 'Maize',\n",
              " 'Maize',\n",
              " 'Maize',\n",
              " 'Maize',\n",
              " 'Cassava',\n",
              " 'Cassava',\n",
              " 'Maize',\n",
              " 'Cassava',\n",
              " 'Fallowland',\n",
              " 'Cassava',\n",
              " 'Cassava',\n",
              " 'Maize',\n",
              " 'Maize',\n",
              " 'Maize',\n",
              " 'Groundnut',\n",
              " 'Maize',\n",
              " 'Cassava',\n",
              " 'Maize',\n",
              " 'Groundnut',\n",
              " 'Cassava',\n",
              " 'Maize',\n",
              " 'Cassava',\n",
              " 'Maize',\n",
              " 'Maize',\n",
              " 'Cassava',\n",
              " 'Maize',\n",
              " 'Cassava',\n",
              " 'Maize',\n",
              " 'Tomato',\n",
              " 'Maize',\n",
              " 'Millet',\n",
              " 'Maize',\n",
              " 'Millet',\n",
              " 'Maize',\n",
              " 'Millet',\n",
              " 'Maize',\n",
              " 'Millet',\n",
              " 'Maize',\n",
              " 'Fallowland',\n",
              " 'Maize',\n",
              " 'Maize',\n",
              " 'Maize',\n",
              " 'Maize',\n",
              " 'Millet',\n",
              " 'Maize',\n",
              " 'Maize',\n",
              " 'Maize',\n",
              " 'Maize',\n",
              " 'Maize',\n",
              " 'Cassava',\n",
              " 'Fallowland',\n",
              " 'Maize',\n",
              " 'Maize',\n",
              " 'Maize',\n",
              " 'Maize',\n",
              " 'Cassava',\n",
              " 'Tomato',\n",
              " 'Groundnut',\n",
              " 'Maize',\n",
              " 'Groundnut',\n",
              " 'Fallowland',\n",
              " 'Groundnut',\n",
              " 'Maize',\n",
              " 'Maize',\n",
              " 'Maize',\n",
              " 'Cassava',\n",
              " 'Fallowland',\n",
              " 'Cassava',\n",
              " 'Maize',\n",
              " 'Maize',\n",
              " 'Maize',\n",
              " 'Cassava',\n",
              " 'Sugarcane',\n",
              " 'Maize',\n",
              " 'Cassava',\n",
              " 'Sweetpotato',\n",
              " 'Maize',\n",
              " 'Maize',\n",
              " 'Maize',\n",
              " 'Cassava',\n",
              " 'Fallowland',\n",
              " 'Millet',\n",
              " 'Fallowland',\n",
              " 'Maize',\n",
              " 'Maize',\n",
              " 'Maize',\n",
              " 'Fallowland',\n",
              " 'Banana',\n",
              " 'Millet',\n",
              " 'Maize',\n",
              " 'Cassava',\n",
              " 'Maize',\n",
              " 'Fallowland',\n",
              " 'Maize',\n",
              " 'Maize',\n",
              " 'Maize',\n",
              " 'Maize']"
            ]
          },
          "metadata": {
            "tags": []
          },
          "execution_count": 11
        }
      ]
    },
    {
      "cell_type": "markdown",
      "metadata": {
        "id": "VH16ijwlhuY1"
      },
      "source": [
        "### For you to do"
      ]
    },
    {
      "cell_type": "code",
      "metadata": {
        "id": "abxymS_bhuY2"
      },
      "source": [
        "# Write your code to complete the following functions\n",
        "\n",
        "def get_crop_area(crop):\n",
        "    # Calculate the total area in square meters of the fields which contain the selected crop\n",
        "    \n",
        "    # WRITE YOUR CODE HERE\n",
        "    area = 0\n",
        "    return area"
      ],
      "execution_count": null,
      "outputs": []
    },
    {
      "cell_type": "code",
      "metadata": {
        "id": "gPW1x45DhuY3"
      },
      "source": [
        "# Run this to validate your function works correctly\n",
        "\n",
        "assert int(get_crop_area('Maize')) == 192534, \"Sorry wrong answer\"\n",
        "assert int(get_crop_area('Sorghum')) == 227, \"Sorry wrong answer\"\n",
        "assert int(get_crop_area('Banana')) == 946, \"Sorry wrong answer\"\n",
        "print(\"Congratulations, all is working just fine !!!\")"
      ],
      "execution_count": null,
      "outputs": []
    },
    {
      "cell_type": "markdown",
      "metadata": {
        "id": "bYHKrRCAhuY3"
      },
      "source": [
        "### Extra Bonus questions"
      ]
    },
    {
      "cell_type": "code",
      "metadata": {
        "id": "V_JyV5owhuY4"
      },
      "source": [
        "import fiona\n",
        "import rasterio\n",
        "import rasterio.mask\n",
        "import pycrs\n",
        "\n",
        "\n",
        "def masked_raster(input_file, raster_file):\n",
        "    # Create a masked version of the input raster where pixels falling within one of the fields are set to `1` and pixels outside the fields are set to `0`\n",
        "    \n",
        "    # WRITE YOUR CODE HERE\n",
        "\n",
        "    out_img = rasterio.open(raster_file).read()\n",
        "    return out_img\n",
        "\n",
        "def reproject_raster(raster_file, dst_crs):\n",
        "    # Reproject the input raster to the provided CRS\n",
        "    \n",
        "    src = rasterio.open(raster_file)\n",
        "    \n",
        "    # WRITE YOUR CODE HERE\n",
        "    dst = src\n",
        "    \n",
        "    return dst"
      ],
      "execution_count": null,
      "outputs": []
    },
    {
      "cell_type": "code",
      "metadata": {
        "id": "Lz_V7z1ehuY5"
      },
      "source": [
        "# Run this to validate your function works correctly\n",
        "\n",
        "assert masked_raster('crops.geojson', 'crops.tif')[0].sum() == 1144636.0, \"Sorry wrong answer\"\n",
        "assert str(reproject_raster('crops.tif', 'EPSG:4326').crs) == 'EPSG:4326', \"Sorry wrong answer\"\n",
        "print(\"Congratulations, all is working just fine !!!\")"
      ],
      "execution_count": null,
      "outputs": []
    },
    {
      "cell_type": "code",
      "metadata": {
        "id": "mtLYlJJKhuY6"
      },
      "source": [
        ""
      ],
      "execution_count": null,
      "outputs": []
    }
  ]
}